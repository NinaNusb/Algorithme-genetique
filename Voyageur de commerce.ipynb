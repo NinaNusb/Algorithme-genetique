{
 "cells": [
  {
   "cell_type": "markdown",
   "metadata": {},
   "source": [
    "PROBLEME DU VOYAGEUR DE COMMERCE - Méthode naïve"
   ]
  },
  {
   "cell_type": "markdown",
   "metadata": {},
   "source": [
    "1. Générer des coordonnées aléatoires de points"
   ]
  },
  {
   "cell_type": "code",
   "execution_count": 33,
   "metadata": {},
   "outputs": [],
   "source": [
    "import random\n",
    "from pprint import pprint \n",
    "from math import dist\n",
    "from math import sqrt\n",
    "#Pour avoir les mêmes résultats dans le groupe (plus ou moins aléatoires)\n",
    "random.seed(123) \n",
    "\n",
    "liste_points=[(random.randint(-1000,1000),random.randint(-1000,1000))for _ in range(6)]"
   ]
  },
  {
   "cell_type": "code",
   "execution_count": 26,
   "metadata": {},
   "outputs": [
    {
     "name": "stdout",
     "output_type": "stream",
     "text": [
      "[(-893, -452), (-822, 574), (-166, -455), (-780, 717), (845, 791), (-922, -224)]\n"
     ]
    }
   ],
   "source": [
    "pprint(liste_points)"
   ]
  },
  {
   "cell_type": "markdown",
   "metadata": {},
   "source": [
    "2. Créer une classe pour trouver tous les chemins possibles dans l'arbre"
   ]
  },
  {
   "cell_type": "code",
   "execution_count": 43,
   "metadata": {},
   "outputs": [],
   "source": [
    "class Arbre:\n",
    "    def __init__(self, valeur, parent):\n",
    "        self.valeur=valeur\n",
    "        self.parent=parent\n",
    "        self.enfants=[]\n",
    "\n",
    "    def ajouter_enfant(self, enfant):\n",
    "    #Enfant = nouvel élément après un parent\n",
    "        self.enfants.append(enfant)\n",
    "\n",
    "    def est_feuille(self):\n",
    "    # Feuille = dernier élément d'une branche de l'arbre\n",
    "        if len(self.enfants) == 0: #ou if self.enfants == [] \n",
    "            return True\n",
    "        return False #sinon ne renvoie rien\n",
    "\n",
    "    # > Obtenir le nombre d'étages de l'arbre (avec la récursivité, càd fonction qui s'appelle elle-même)\n",
    "    def obtenir_profondeur(self):\n",
    "        #trouver la condition d'arrêt puisque récursivité\n",
    "        if Arbre.est_feuille(self):\n",
    "            return 0\n",
    "        else: #à garder?\n",
    "            profondeurs_enfants=[]\n",
    "            for enfant in self.enfants:\n",
    "                profondeurs_enfants.append(enfant.obtenir_profondeur())\n",
    "            return(max(profondeurs_enfants)+1)\n",
    "\n",
    "    def obtenir_points_dans_chemin(self):\n",
    "        if self.parent is None:\n",
    "            return [self.valeur]\n",
    "        else:\n",
    "            points_dans_chemin=[]\n",
    "            for point in self.parent.obtenir_points_dans_chemin():\n",
    "                points_dans_chemin.append(point)\n",
    "            points_dans_chemin.append(self.vleur)\n",
    "            return points_dans_chemin"
   ]
  },
  {
   "cell_type": "markdown",
   "metadata": {},
   "source": [
    "3. Créer une fonction qui calcule la distance entre 2 points"
   ]
  },
  {
   "cell_type": "code",
   "execution_count": 37,
   "metadata": {},
   "outputs": [],
   "source": [
    "def calculer_distance(point_A, point_B):\n",
    "   return sqrt(((point_A[0]-point_B[0])**2)+((point_A[1]-point_B[1])**2))"
   ]
  },
  {
   "cell_type": "markdown",
   "metadata": {},
   "source": [
    "4. Créer une fonction qui calcule la distance entre les points d'un chemin donné (=évaluation d'un chemin)"
   ]
  },
  {
   "cell_type": "code",
   "execution_count": 38,
   "metadata": {},
   "outputs": [],
   "source": [
    "def calculer_distance_chemin(chemin, ligne_points):\n",
    "    resultat = 0\n",
    "    for i in range(len(chemin) -1):\n",
    "        resultat += calculer_distance(liste_points[chemin[i]], liste_points[chemin[i+1]])\n",
    "    return resultat "
   ]
  },
  {
   "cell_type": "markdown",
   "metadata": {},
   "source": [
    "5. Créer une fonction qui renvoie les points non visités"
   ]
  },
  {
   "cell_type": "code",
   "execution_count": 42,
   "metadata": {},
   "outputs": [],
   "source": [
    "def obtenir_points_suivants_non_visités(liste_points, indices_ponts_visités):\n",
    "    \"\"\"ArbreFonction qui renvoie la liste des points encore à visiter\n",
    "    :param listes_points: (list) L aliste des points\n",
    "    :param indices_points_visités: (list) une liste qui contient l'indice des points déjà visités\n",
    "    :return: (list) une liste qui contient les indices des points encore à visiter\n",
    "    \"\"\"\n",
    "    if len(indices_ponts_visités) == len(liste_points):\n",
    "        return []\n",
    "    return [indice for indice in range(len(liste_points))if indice not in indices_ponts_visités]"
   ]
  },
  {
   "cell_type": "markdown",
   "metadata": {},
   "source": [
    "6. Générer un arbre"
   ]
  },
  {
   "cell_type": "code",
   "execution_count": 44,
   "metadata": {},
   "outputs": [],
   "source": [
    "def créer_arbre(liste_points):\n",
    "    arbre = Arbre(0, None)\n",
    "    file = [arbre]\n",
    "\n",
    "    while arbre.obtenir_profondeur() <= len(liste_points) - 1 and len(file) > 0:\n",
    "        #enlever l'élément 0 de la liste\n",
    "        noeud_en_cours = file.pop(0)\n",
    "        points_suivants = obtenir_points_suivants_non_visités(liste_points, noeud_en_cours.obtenir_points_dans_chemin)\n",
    "        for point in points_suivants:\n",
    "            #pour chaque point dans la liste, je crée un enfant\n",
    "            enfant = Arbre(point, noeud_en_cours)\n",
    "            noeud_en_cours.ajouter_enfant(enfant)\n",
    "            file.append(enfant)\n",
    "        #après avoir ajouté tous les éléments dans la file, on sort de la boucle for pour retourner dans le while et traiter les elts\n",
    "    return arbre"
   ]
  },
  {
   "cell_type": "code",
   "execution_count": null,
   "metadata": {},
   "outputs": [],
   "source": []
  }
 ],
 "metadata": {
  "kernelspec": {
   "display_name": "Python 3.10.4 64-bit",
   "language": "python",
   "name": "python3"
  },
  "language_info": {
   "codemirror_mode": {
    "name": "ipython",
    "version": 3
   },
   "file_extension": ".py",
   "mimetype": "text/x-python",
   "name": "python",
   "nbconvert_exporter": "python",
   "pygments_lexer": "ipython3",
   "version": "3.10.4"
  },
  "orig_nbformat": 4,
  "vscode": {
   "interpreter": {
    "hash": "916dbcbb3f70747c44a77c7bcd40155683ae19c65e1c03b4aa3499c5328201f1"
   }
  }
 },
 "nbformat": 4,
 "nbformat_minor": 2
}
