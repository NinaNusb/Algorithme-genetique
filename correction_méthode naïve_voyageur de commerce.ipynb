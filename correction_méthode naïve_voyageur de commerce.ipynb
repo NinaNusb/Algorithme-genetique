{
 "cells": [
  {
   "cell_type": "code",
   "execution_count": 1,
   "metadata": {},
   "outputs": [],
   "source": [
    "import random\n",
    "from pprint import pprint\n",
    "from math import sqrt"
   ]
  },
  {
   "cell_type": "code",
   "execution_count": null,
   "metadata": {},
   "outputs": [],
   "source": [
    "class Arbre:\n",
    "    def __init__(self, valeur, parent):\n",
    "        self.valeur = valeur\n",
    "        self.enfants = []\n",
    "        self.parent = parent\n",
    "    \n",
    "    def ajouter_enfant(self, enfant):\n",
    "        self.enfants.append(enfant)\n",
    "        \n",
    "    def obtenir_profondeur(self):\n",
    "        if len(self.enfants) == 0:\n",
    "            return 0\n",
    "        else:\n",
    "            profondeurs_enfants = []\n",
    "            for enfant in self.enfants:\n",
    "                profondeurs_enfants.append(enfant.obtenir_profondeur())\n",
    "            return(max(profondeurs_enfants) + 1)\n",
    "        \n",
    "    def obtenir_points_dans_chemin(self):\n",
    "        if self.parent is None:\n",
    "            return [self.valeur]\n",
    "        else:\n",
    "            points_dans_chemin = []\n",
    "            for point in self.parent.obtenir_points_dans_chemin():\n",
    "                points_dans_chemin.append(point)\n",
    "            points_dans_chemin.append(self.valeur)\n",
    "            return points_dans_chemin\n",
    "\n",
    "    def est_feuille(self):\n",
    "        if len(self.enfants) == 0:\n",
    "            return True\n",
    "        return False\n",
    "\n",
    "    "
   ]
  },
  {
   "cell_type": "code",
   "execution_count": 2,
   "metadata": {},
   "outputs": [],
   "source": [
    "def calculer_distance(point_A, point_B):\n",
    "    return sqrt(((point_A[0] - point_B[0])**2) + ((point_A[1] - point_B[1])**2))"
   ]
  },
  {
   "cell_type": "code",
   "execution_count": null,
   "metadata": {},
   "outputs": [],
   "source": [
    "def calculer_distance_chemin(chemin, liste_points):\n",
    "    resultat = 0\n",
    "    for i in range(len(chemin) - 1):\n",
    "        resultat += calculer_distance(liste_points[chemin[i]], liste_points[chemin[i + 1]])\n",
    "    return resultat"
   ]
  },
  {
   "cell_type": "code",
   "execution_count": null,
   "metadata": {},
   "outputs": [],
   "source": [
    "def obtenir_points_suivants_non_visités(liste_points, indices_points_visités):\n",
    "    \"\"\"\n",
    "    Fonction qui renvoie la liste des points encore à visiter\n",
    "    :param listes_points: (list) La liste des points\n",
    "    :param indices_points-visités: (list) une liste qui contient l'indice des points déjà visités\n",
    "    :return: (list) une liste qui contient les indices des points encore à visiter\n",
    "    \"\"\"\n",
    "    if len(indices_points_visités) == len(liste_points):\n",
    "        return []\n",
    "    return [indice for indice in range(len(liste_points)) if indice not in indices_points_visités]\n"
   ]
  },
  {
   "cell_type": "code",
   "execution_count": null,
   "metadata": {},
   "outputs": [],
   "source": [
    "def créer_arbre(liste_points):\n",
    "    arbre = Arbre(0, None)\n",
    "    file = [arbre]\n",
    "\n",
    "    while arbre.obtenir_profondeur() <= len(liste_points) - 1 and len(file) > 0:\n",
    "        noeud_en_cours = file.pop(0)\n",
    "        points_suivants = obtenir_points_suivants_non_visités(liste_points, noeud_en_cours.obtenir_points_dans_chemin())\n",
    "        for point in points_suivants:\n",
    "            enfant = Arbre(point, noeud_en_cours)\n",
    "            noeud_en_cours.ajouter_enfant(enfant)\n",
    "            file.append(enfant)\n",
    "    return arbre\n"
   ]
  }
 ],
 "metadata": {
  "kernelspec": {
   "display_name": "Python 3.9.13 64-bit",
   "language": "python",
   "name": "python3"
  },
  "language_info": {
   "codemirror_mode": {
    "name": "ipython",
    "version": 3
   },
   "file_extension": ".py",
   "mimetype": "text/x-python",
   "name": "python",
   "nbconvert_exporter": "python",
   "pygments_lexer": "ipython3",
   "version": "3.9.13"
  },
  "orig_nbformat": 4,
  "vscode": {
   "interpreter": {
    "hash": "b0fa6594d8f4cbf19f97940f81e996739fb7646882a419484c72d19e05852a7e"
   }
  }
 },
 "nbformat": 4,
 "nbformat_minor": 2
}
