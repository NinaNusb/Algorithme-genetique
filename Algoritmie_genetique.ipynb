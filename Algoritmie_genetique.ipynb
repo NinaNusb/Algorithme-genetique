{
 "cells": [
  {
   "cell_type": "markdown",
   "metadata": {},
   "source": [
    "PROBLEME DU VOYAGEUR DE COMMERCE - Algorithmie génétique"
   ]
  },
  {
   "cell_type": "markdown",
   "metadata": {},
   "source": [
    "1. Créer class POO"
   ]
  },
  {
   "cell_type": "code",
   "execution_count": 1,
   "metadata": {},
   "outputs": [],
   "source": [
    "from math import dist\n",
    "import random\n",
    "from pprint import pprint"
   ]
  },
  {
   "cell_type": "code",
   "execution_count": 2,
   "metadata": {},
   "outputs": [],
   "source": [
    "class Génétique:\n",
    "    def __init__(self, nb_chemins, liste_points):\n",
    "        self.chemins=[]\n",
    "        self.nb_chemins=nb_chemins\n",
    "        self.liste_points=liste_points\n",
    "        self.nb_points=len(self.liste_points)\n",
    "\n",
    "    def peupler(self):\n",
    "        liste=[i for i in range(1,self.nb_points)]\n",
    "        for i in range(self.nb_chemins):\n",
    "            random.shuffle(liste)\n",
    "            chemin=liste.copy()\n",
    "            chemin.insert(0,0)\n",
    "            self.chemins.append({\"chemin\": chemin, \"distance\": None,} )\n",
    "    \n",
    "    def evaluer(self): #calculer sa distance\n",
    "        def calculer_distance_chemin(chemin, liste_points):\n",
    "            resultat = 0\n",
    "            for i in range(len(chemin) -1):\n",
    "                resultat += dist(liste_points[chemin[i]], liste_points[chemin[i+1]])\n",
    "            return resultat \n",
    "            \n",
    "        for chemin in self.chemins:\n",
    "            chemin[\"distance\"]=calculer_distance_chemin(chemin[\"chemin\"],self.liste_points)\n",
    "        \n",
    "\n",
    "    def sélectionner(self):\n",
    "        self.chemins.sort(key=lambda x: x[\"distance\"])\n",
    "        nb = int(self.nb_chemins/3) #ou *1/3\n",
    "        self.chemins= self.chemins[0:nb]\n",
    "        return self.chemins\n",
    "\n",
    "    def croiser_et_muter(self):\n",
    "        pass\n",
    "\n",
    "    def meilleur_chemin(self):\n",
    "        pass"
   ]
  },
  {
   "cell_type": "markdown",
   "metadata": {},
   "source": [
    "2. Créer une population (instance de Génétique)"
   ]
  },
  {
   "cell_type": "code",
   "execution_count": 3,
   "metadata": {},
   "outputs": [],
   "source": [
    "liste_points=[(-893, -452), (-822, 574), (-166, -455), (-780, 717), (845, 791), (-922, -224), (98, 151), (-320, -303)]\n",
    "gen=Génétique(21,liste_points)\n",
    "gen.peupler()\n"
   ]
  },
  {
   "cell_type": "markdown",
   "metadata": {},
   "source": [
    "2. Evaluer population"
   ]
  },
  {
   "cell_type": "code",
   "execution_count": 4,
   "metadata": {},
   "outputs": [
    {
     "name": "stdout",
     "output_type": "stream",
     "text": [
      "[{'chemin': [0, 4, 1, 5, 6, 7, 2, 3], 'distance': 7865.400280112273},\n",
      " {'chemin': [0, 3, 2, 1, 4, 5, 6, 7], 'distance': 9140.570526118689},\n",
      " {'chemin': [0, 1, 5, 4, 7, 6, 3, 2], 'distance': 8453.451303507396},\n",
      " {'chemin': [0, 3, 2, 7, 4, 6, 5, 1], 'distance': 7186.728128536879},\n",
      " {'chemin': [0, 6, 3, 2, 5, 1, 7, 4], 'distance': 7731.157751966962},\n",
      " {'chemin': [0, 2, 3, 7, 6, 4, 5, 1], 'distance': 7611.835723766066},\n",
      " {'chemin': [0, 1, 6, 3, 2, 4, 7, 5], 'distance': 8218.630145977098},\n",
      " {'chemin': [0, 2, 6, 7, 5, 1, 4, 3], 'distance': 6724.288144376142},\n",
      " {'chemin': [0, 7, 5, 3, 4, 6, 1, 2], 'distance': 6994.1299339956795},\n",
      " {'chemin': [0, 3, 7, 6, 1, 4, 2, 5], 'distance': 7999.2208806464005},\n",
      " {'chemin': [0, 4, 7, 6, 2, 1, 3, 5], 'distance': 7334.034377750107},\n",
      " {'chemin': [0, 6, 2, 4, 3, 7, 5, 1], 'distance': 7582.629450645368},\n",
      " {'chemin': [0, 4, 7, 3, 2, 6, 1, 5], 'distance': 8654.749013493656},\n",
      " {'chemin': [0, 1, 3, 5, 7, 2, 4, 6], 'distance': 5540.927233066935},\n",
      " {'chemin': [0, 4, 7, 3, 5, 2, 1, 6], 'distance': 8828.881072845676},\n",
      " {'chemin': [0, 2, 3, 6, 1, 4, 5, 7], 'distance': 8433.308480320087},\n",
      " {'chemin': [0, 1, 5, 3, 2, 7, 4, 6], 'distance': 6905.637097721398},\n",
      " {'chemin': [0, 5, 4, 2, 1, 6, 7, 3], 'distance': 7841.130382770083},\n",
      " {'chemin': [0, 3, 7, 2, 4, 1, 5, 6], 'distance': 7686.379247145629},\n",
      " {'chemin': [0, 2, 6, 1, 4, 5, 3, 7], 'distance': 8190.018063621006},\n",
      " {'chemin': [0, 2, 3, 6, 7, 4, 5, 1], 'distance': 8152.003799643637}]\n"
     ]
    }
   ],
   "source": [
    "gen.evaluer()\n",
    "pprint(gen.chemins)"
   ]
  },
  {
   "cell_type": "markdown",
   "metadata": {},
   "source": [
    "3. Sélectionner 1/3 de la population"
   ]
  },
  {
   "cell_type": "code",
   "execution_count": 5,
   "metadata": {},
   "outputs": [
    {
     "data": {
      "text/plain": [
       "[{'chemin': [0, 1, 3, 5, 7, 2, 4, 6], 'distance': 5540.927233066935},\n",
       " {'chemin': [0, 2, 6, 7, 5, 1, 4, 3], 'distance': 6724.288144376142},\n",
       " {'chemin': [0, 1, 5, 3, 2, 7, 4, 6], 'distance': 6905.637097721398},\n",
       " {'chemin': [0, 7, 5, 3, 4, 6, 1, 2], 'distance': 6994.1299339956795},\n",
       " {'chemin': [0, 3, 2, 7, 4, 6, 5, 1], 'distance': 7186.728128536879},\n",
       " {'chemin': [0, 4, 7, 6, 2, 1, 3, 5], 'distance': 7334.034377750107},\n",
       " {'chemin': [0, 6, 2, 4, 3, 7, 5, 1], 'distance': 7582.629450645368}]"
      ]
     },
     "execution_count": 5,
     "metadata": {},
     "output_type": "execute_result"
    }
   ],
   "source": [
    "gen.sélectionner()"
   ]
  },
  {
   "cell_type": "markdown",
   "metadata": {},
   "source": [
    "4. Croisements et mutations des populations / meilleurs chemins"
   ]
  }
 ],
 "metadata": {
  "kernelspec": {
   "display_name": "Python 3.10.4 64-bit",
   "language": "python",
   "name": "python3"
  },
  "language_info": {
   "codemirror_mode": {
    "name": "ipython",
    "version": 3
   },
   "file_extension": ".py",
   "mimetype": "text/x-python",
   "name": "python",
   "nbconvert_exporter": "python",
   "pygments_lexer": "ipython3",
   "version": "3.10.4"
  },
  "orig_nbformat": 4,
  "vscode": {
   "interpreter": {
    "hash": "916dbcbb3f70747c44a77c7bcd40155683ae19c65e1c03b4aa3499c5328201f1"
   }
  }
 },
 "nbformat": 4,
 "nbformat_minor": 2
}
