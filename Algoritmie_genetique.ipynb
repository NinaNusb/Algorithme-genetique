{
 "cells": [
  {
   "cell_type": "markdown",
   "metadata": {},
   "source": [
    "PROBLEME DU VOYAGEUR DE COMMERCE - Algorithmie génétique"
   ]
  },
  {
   "cell_type": "markdown",
   "metadata": {},
   "source": [
    "1. Créer class POO"
   ]
  },
  {
   "cell_type": "code",
   "execution_count": 1,
   "metadata": {},
   "outputs": [],
   "source": [
    "from math import dist\n",
    "import random\n",
    "from pprint import pprint"
   ]
  },
  {
   "cell_type": "code",
   "execution_count": 2,
   "metadata": {},
   "outputs": [],
   "source": [
    "class Génétique:\n",
    "    def __init__(self, nb_chemins, liste_points):\n",
    "        self.chemins=[]\n",
    "        self.nb_chemins=nb_chemins\n",
    "        self.liste_points=liste_points\n",
    "        self.nb_points=len(self.liste_points)\n",
    "\n",
    "    def peupler(self):\n",
    "        liste=[i for i in range(1,self.nb_points)]\n",
    "        for i in range(self.nb_chemins):\n",
    "            random.shuffle(liste)\n",
    "            chemin=liste.copy()\n",
    "            chemin.insert(0,0) #insert en position 0 un 0\n",
    "            self.chemins.append({\"chemin\": chemin, \"distance\": None,} )\n",
    "    \n",
    "    def evaluer(self): #calculer sa distance\n",
    "        def calculer_distance_chemin(chemin, liste_points):\n",
    "            resultat = 0\n",
    "            for i in range(len(chemin) -1):\n",
    "                resultat += dist(liste_points[chemin[i]], liste_points[chemin[i+1]])\n",
    "            return resultat \n",
    "            \n",
    "        for chemin in self.chemins:\n",
    "            chemin[\"distance\"]=calculer_distance_chemin(chemin[\"chemin\"],self.liste_points)\n",
    "        \n",
    "\n",
    "    def sélectionner(self):\n",
    "        self.chemins.sort(key=lambda x: x[\"distance\"])\n",
    "        nb = int(self.nb_chemins/3) #ou *1/3\n",
    "        self.chemins= self.chemins[0:nb]\n",
    "        return self.chemins\n",
    "\n",
    "    def croiser_et_muter(self):\n",
    "        def swap_random(seq):\n",
    "            idx = range(len(seq))\n",
    "            i1, i2 = random.sample(idx, 2)\n",
    "            seq[i1], seq[i2] = seq[i2], seq[i1]\n",
    "\n",
    "        i = 0\n",
    "        while len(self.chemins) is not self.nb_chemins: #??\n",
    "            for _ in range(self.nb_chemins):\n",
    "                croisement=[]\n",
    "                chemin_a=self.chemins[i]\n",
    "                chemin_b=self.chemins[i+1]\n",
    "                croisement.append(chemin_a[\"chemin\"][0])\n",
    "                for j in range(len(chemin_a[\"chemin\"])): #parce que chemin est un dict\n",
    "                    if chemin_b[\"chemin\"][j] not in croisement:\n",
    "                        croisement.append(chemin_b[\"chemin\"][j])\n",
    "                    if chemin_a[\"chemin\"][j] not in croisement:\n",
    "                        croisement.append(chemin_a[\"chemin\"][j])\n",
    "                self.chemins.append({\"chemin\": croisement, \"distance\": None,} )\n",
    "            return self.chemins\n",
    "        swap_random(self.chemins)\n",
    "\n",
    "    def meilleur_chemin(self):\n",
    "        Génétique.evaluer(self)    \n",
    "        return self.chemins[0]"
   ]
  },
  {
   "cell_type": "markdown",
   "metadata": {},
   "source": [
    "2. Créer une population (instance de Génétique)"
   ]
  },
  {
   "cell_type": "code",
   "execution_count": 3,
   "metadata": {},
   "outputs": [],
   "source": [
    "liste_points=[(-893, -452), (-822, 574), (-166, -455), (-780, 717), (845, 791), (-922, -224), (98, 151), (-320, -303)]\n",
    "gen=Génétique(21,liste_points)\n",
    "gen.peupler()\n"
   ]
  },
  {
   "cell_type": "markdown",
   "metadata": {},
   "source": [
    "2. Evaluer population"
   ]
  },
  {
   "cell_type": "code",
   "execution_count": 4,
   "metadata": {},
   "outputs": [
    {
     "name": "stdout",
     "output_type": "stream",
     "text": [
      "[{'chemin': [0, 2, 3, 4, 1, 6, 7, 5], 'distance': 7594.71872818138},\n",
      " {'chemin': [0, 1, 3, 5, 2, 4, 7, 6], 'distance': 6739.484931711217},\n",
      " {'chemin': [0, 6, 3, 4, 7, 5, 1, 2], 'distance': 8061.211248837199},\n",
      " {'chemin': [0, 2, 6, 3, 5, 4, 1, 7], 'distance': 8113.6402912476215},\n",
      " {'chemin': [0, 1, 4, 6, 7, 2, 3, 5], 'distance': 6801.4397533755755},\n",
      " {'chemin': [0, 3, 5, 7, 1, 6, 4, 2], 'distance': 7344.599348462266},\n",
      " {'chemin': [0, 2, 6, 4, 3, 1, 7, 5], 'distance': 5765.082693865564},\n",
      " {'chemin': [0, 1, 5, 3, 7, 6, 2, 4], 'distance': 6785.975050879415},\n",
      " {'chemin': [0, 7, 1, 3, 2, 5, 6, 4], 'distance': 5935.62731267978},\n",
      " {'chemin': [0, 4, 1, 2, 3, 5, 6, 7], 'distance': 9016.751950858988},\n",
      " {'chemin': [0, 3, 7, 4, 6, 2, 5, 1], 'distance': 7130.944882531585},\n",
      " {'chemin': [0, 6, 3, 7, 5, 4, 2, 1], 'distance': 8793.410380005991},\n",
      " {'chemin': [0, 6, 5, 7, 1, 2, 3, 4], 'distance': 8034.5585269772655},\n",
      " {'chemin': [0, 1, 5, 4, 6, 2, 3, 7], 'distance': 7957.169194146851},\n",
      " {'chemin': [0, 7, 1, 3, 4, 6, 5, 2], 'distance': 6239.216506367582},\n",
      " {'chemin': [0, 4, 7, 2, 1, 3, 5, 6], 'distance': 7359.032740727003},\n",
      " {'chemin': [0, 2, 5, 1, 3, 4, 7, 6], 'distance': 6312.741369036992},\n",
      " {'chemin': [0, 2, 3, 6, 5, 7, 1, 4], 'distance': 7480.212350854407},\n",
      " {'chemin': [0, 5, 7, 4, 1, 3, 6, 2], 'distance': 5970.878773575684},\n",
      " {'chemin': [0, 1, 7, 6, 5, 2, 3, 4], 'distance': 7483.120222414531},\n",
      " {'chemin': [0, 3, 4, 1, 5, 7, 2, 6], 'distance': 6770.987703918935}]\n"
     ]
    }
   ],
   "source": [
    "gen.evaluer()\n",
    "pprint(gen.chemins)"
   ]
  },
  {
   "cell_type": "markdown",
   "metadata": {},
   "source": [
    "3. Sélectionner 1/3 de la population"
   ]
  },
  {
   "cell_type": "code",
   "execution_count": 5,
   "metadata": {},
   "outputs": [
    {
     "data": {
      "text/plain": [
       "[{'chemin': [0, 2, 6, 4, 3, 1, 7, 5], 'distance': 5765.082693865564},\n",
       " {'chemin': [0, 7, 1, 3, 2, 5, 6, 4], 'distance': 5935.62731267978},\n",
       " {'chemin': [0, 5, 7, 4, 1, 3, 6, 2], 'distance': 5970.878773575684},\n",
       " {'chemin': [0, 7, 1, 3, 4, 6, 5, 2], 'distance': 6239.216506367582},\n",
       " {'chemin': [0, 2, 5, 1, 3, 4, 7, 6], 'distance': 6312.741369036992},\n",
       " {'chemin': [0, 1, 3, 5, 2, 4, 7, 6], 'distance': 6739.484931711217},\n",
       " {'chemin': [0, 3, 4, 1, 5, 7, 2, 6], 'distance': 6770.987703918935}]"
      ]
     },
     "execution_count": 5,
     "metadata": {},
     "output_type": "execute_result"
    }
   ],
   "source": [
    "gen.sélectionner()"
   ]
  },
  {
   "cell_type": "markdown",
   "metadata": {},
   "source": [
    "4. Croisements et mutations des populations "
   ]
  },
  {
   "cell_type": "code",
   "execution_count": 6,
   "metadata": {},
   "outputs": [
    {
     "data": {
      "text/plain": [
       "[{'chemin': [0, 2, 6, 4, 3, 1, 7, 5], 'distance': 5765.082693865564},\n",
       " {'chemin': [0, 7, 1, 3, 2, 5, 6, 4], 'distance': 5935.62731267978},\n",
       " {'chemin': [0, 5, 7, 4, 1, 3, 6, 2], 'distance': 5970.878773575684},\n",
       " {'chemin': [0, 7, 1, 3, 4, 6, 5, 2], 'distance': 6239.216506367582},\n",
       " {'chemin': [0, 2, 5, 1, 3, 4, 7, 6], 'distance': 6312.741369036992},\n",
       " {'chemin': [0, 1, 3, 5, 2, 4, 7, 6], 'distance': 6739.484931711217},\n",
       " {'chemin': [0, 3, 4, 1, 5, 7, 2, 6], 'distance': 6770.987703918935},\n",
       " {'chemin': [0, 7, 2, 1, 6, 3, 4, 5], 'distance': None},\n",
       " {'chemin': [0, 7, 2, 1, 6, 3, 4, 5], 'distance': None},\n",
       " {'chemin': [0, 7, 2, 1, 6, 3, 4, 5], 'distance': None},\n",
       " {'chemin': [0, 7, 2, 1, 6, 3, 4, 5], 'distance': None},\n",
       " {'chemin': [0, 7, 2, 1, 6, 3, 4, 5], 'distance': None},\n",
       " {'chemin': [0, 7, 2, 1, 6, 3, 4, 5], 'distance': None},\n",
       " {'chemin': [0, 7, 2, 1, 6, 3, 4, 5], 'distance': None},\n",
       " {'chemin': [0, 7, 2, 1, 6, 3, 4, 5], 'distance': None},\n",
       " {'chemin': [0, 7, 2, 1, 6, 3, 4, 5], 'distance': None},\n",
       " {'chemin': [0, 7, 2, 1, 6, 3, 4, 5], 'distance': None},\n",
       " {'chemin': [0, 7, 2, 1, 6, 3, 4, 5], 'distance': None},\n",
       " {'chemin': [0, 7, 2, 1, 6, 3, 4, 5], 'distance': None},\n",
       " {'chemin': [0, 7, 2, 1, 6, 3, 4, 5], 'distance': None},\n",
       " {'chemin': [0, 7, 2, 1, 6, 3, 4, 5], 'distance': None},\n",
       " {'chemin': [0, 7, 2, 1, 6, 3, 4, 5], 'distance': None},\n",
       " {'chemin': [0, 7, 2, 1, 6, 3, 4, 5], 'distance': None},\n",
       " {'chemin': [0, 7, 2, 1, 6, 3, 4, 5], 'distance': None},\n",
       " {'chemin': [0, 7, 2, 1, 6, 3, 4, 5], 'distance': None},\n",
       " {'chemin': [0, 7, 2, 1, 6, 3, 4, 5], 'distance': None},\n",
       " {'chemin': [0, 7, 2, 1, 6, 3, 4, 5], 'distance': None},\n",
       " {'chemin': [0, 7, 2, 1, 6, 3, 4, 5], 'distance': None}]"
      ]
     },
     "execution_count": 6,
     "metadata": {},
     "output_type": "execute_result"
    }
   ],
   "source": [
    "gen.croiser_et_muter()"
   ]
  },
  {
   "cell_type": "markdown",
   "metadata": {},
   "source": [
    "5. Etablir les meilleurs chemins"
   ]
  },
  {
   "cell_type": "code",
   "execution_count": 7,
   "metadata": {},
   "outputs": [
    {
     "data": {
      "text/plain": [
       "{'chemin': [0, 2, 6, 4, 3, 1, 7, 5], 'distance': 5765.082693865564}"
      ]
     },
     "execution_count": 7,
     "metadata": {},
     "output_type": "execute_result"
    }
   ],
   "source": [
    "gen.meilleur_chemin()"
   ]
  },
  {
   "cell_type": "code",
   "execution_count": 8,
   "metadata": {},
   "outputs": [
    {
     "data": {
      "text/plain": [
       "{'chemin': [0, 5, 7, 1, 3, 2, 6, 4], 'distance': 4964.324209074152}"
      ]
     },
     "execution_count": 8,
     "metadata": {},
     "output_type": "execute_result"
    }
   ],
   "source": [
    "gen.peupler()\n",
    "for chemin in gen.chemins:\n",
    "        gen.evaluer()\n",
    "        gen.sélectionner()\n",
    "        gen.croiser_et_muter()\n",
    "gen.meilleur_chemin()\n"
   ]
  },
  {
   "cell_type": "code",
   "execution_count": null,
   "metadata": {},
   "outputs": [],
   "source": []
  }
 ],
 "metadata": {
  "kernelspec": {
   "display_name": "Python 3.10.4 64-bit",
   "language": "python",
   "name": "python3"
  },
  "language_info": {
   "codemirror_mode": {
    "name": "ipython",
    "version": 3
   },
   "file_extension": ".py",
   "mimetype": "text/x-python",
   "name": "python",
   "nbconvert_exporter": "python",
   "pygments_lexer": "ipython3",
   "version": "3.10.4"
  },
  "orig_nbformat": 4,
  "vscode": {
   "interpreter": {
    "hash": "916dbcbb3f70747c44a77c7bcd40155683ae19c65e1c03b4aa3499c5328201f1"
   }
  }
 },
 "nbformat": 4,
 "nbformat_minor": 2
}
