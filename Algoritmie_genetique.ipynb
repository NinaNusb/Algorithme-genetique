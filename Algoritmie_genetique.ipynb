{
 "cells": [
  {
   "cell_type": "markdown",
   "metadata": {},
   "source": [
    "PROBLEME DU VOYAGEUR DE COMMERCE - Algorithmie génétique"
   ]
  },
  {
   "cell_type": "markdown",
   "metadata": {},
   "source": [
    "1. Créer class POO"
   ]
  },
  {
   "cell_type": "code",
   "execution_count": 4,
   "metadata": {},
   "outputs": [],
   "source": [
    "from math import dist\n",
    "import random\n",
    "from pprint import pprint"
   ]
  },
  {
   "cell_type": "code",
   "execution_count": 5,
   "metadata": {},
   "outputs": [],
   "source": [
    "class Génétique:\n",
    "    def __init__(self, nb_chemins, liste_points):\n",
    "        self.chemins=[]\n",
    "        self.nb_chemins=nb_chemins\n",
    "        self.liste_points=liste_points\n",
    "        self.nb_points=len(self.liste_points)\n",
    "\n",
    "    def peupler(self):\n",
    "        \"\"\"\n",
    "        Fonction qui prend la liste de coordonnées (nb_points > len(liste_points)) et la mélange pour créer de nouveaux chemins\n",
    "        \"\"\"\n",
    "        liste=[i for i in range(1,self.nb_points)] #à partir de 1 car 0 doit toujours être en première position et donc ne doit pas être mélangé\n",
    "        for i in range(self.nb_chemins):\n",
    "            random.shuffle(liste)\n",
    "            chemin=liste.copy()\n",
    "            chemin.insert(0,0) #insert en position 0 un 0\n",
    "            self.chemins.append({\"chemin\": chemin, \"distance\": None,} ) #passer d'une liste à un dictionnaire\n",
    "    \n",
    "    def evaluer(self): \n",
    "        \"\"\"\n",
    "        Fonction qui calcule la distance entre tous les points d'un chemin, ce qui donne la distance du chemin\n",
    "        \"\"\"\n",
    "        def calculer_distance_chemin(chemin, liste_points):\n",
    "            resultat = 0\n",
    "            for i in range(len(chemin) -1):\n",
    "                resultat += dist(liste_points[chemin[i]], liste_points[chemin[i+1]])\n",
    "            return resultat \n",
    "            \n",
    "        for chemin in self.chemins:\n",
    "            chemin[\"distance\"]=calculer_distance_chemin(chemin[\"chemin\"],self.liste_points)\n",
    "        \n",
    "\n",
    "    def sélectionner(self):\n",
    "        \"\"\"\n",
    "        Fonction qui trie l'ensemble des chemins et qui garde le meilleur tiers\n",
    "        :key: (fonction lambda) lambda car non-définie ailleurs. Sinon utiliser la fonction créée. \n",
    "        :x:(nom de variable) peut être remplacé par n'importe quoi, par exemple chemin\n",
    "        :sort: toujours triée par ordre croissant. utiliser reverse=True pour inverser\n",
    "        \"\"\"\n",
    "        self.chemins.sort(key=lambda x: x[\"distance\"]) #trier en fonction de la distance du chemin\n",
    "        \n",
    "        #strictement équivalent à: \n",
    "        #def renvoyer_chemin(chemin):\n",
    "        #    return chemin[\"distance\"]\n",
    "        \n",
    "        #self.chemins.sort(key=renvoyer_chemin)\n",
    "       \n",
    "        nb = int(self.nb_chemins//3) #ou *1/3 > double slash utilisé pour les division entière (ici besoin d'un indice, pas d'un nombre à virgule)\n",
    "        self.chemins= self.chemins[0:nb]\n",
    "        return self.chemins #inutile car modifie sur place\n",
    "\n",
    "    def croiser_et_muter(self):\n",
    "        def swap_random(seq):\n",
    "            idx = range(len(seq))\n",
    "            i1, i2 = random.sample(idx, 2)\n",
    "            seq[i1], seq[i2] = seq[i2], seq[i1]\n",
    "\n",
    "        i = 0\n",
    "        while len(self.chemins) is not self.nb_chemins: #??\n",
    "            for _ in range(self.nb_chemins):\n",
    "                croisement=[]\n",
    "                chemin_a=self.chemins[i]\n",
    "                chemin_b=self.chemins[i+1]\n",
    "                croisement.append(chemin_a[\"chemin\"][0])\n",
    "                for j in range(len(chemin_a[\"chemin\"])): #parce que chemin est un dict\n",
    "                    if chemin_b[\"chemin\"][j] not in croisement:\n",
    "                        croisement.append(chemin_b[\"chemin\"][j])\n",
    "                    if chemin_a[\"chemin\"][j] not in croisement:\n",
    "                        croisement.append(chemin_a[\"chemin\"][j])\n",
    "                self.chemins.append({\"chemin\": croisement, \"distance\": None,})\n",
    "            i+=1 #à vérifier\n",
    "            return self.chemins\n",
    "        swap_random(self.chemins)\n",
    "\n",
    "    def croiser_et_muter2(self):\n",
    "        def faire_un_bébé(chemin1, chemin2):\n",
    "            bébé = chemin1[0 : len(chemin1) //2]\n",
    "            for indice_point in chemin2:\n",
    "                if indice_point not in bébé:\n",
    "                    bébé.append(indice_point)\n",
    "            return bébé \n",
    "\n",
    "        def muter(chemin):\n",
    "            nb1=random.randint(1, len(chemin) -1)\n",
    "            nb2=random.randint(1, len(chemin) -1)\n",
    "            #print(type(chemin)) pour connaître son type càd dict\n",
    "            chemin[nb1], chemin[nb2] = chemin[nb2], chemin[nb1]\n",
    "\n",
    "        #Croisements\n",
    "        while len(self.chemins) < self.nb_chemins:\n",
    "            self.chemins.append(\n",
    "                {\n",
    "                    \"chemin\": faire_un_bébé(self.chemins[random.randint(0,len(self.chemins)-1)][\"chemin\"], self.chemins[random.randint(0,len(self.chemins)-1)][\"chemin\"]),\n",
    "                    \"distance\": None\n",
    "                }\n",
    "            )\n",
    "\n",
    "        #Mutations\n",
    "        for i in range(1, self.nb_chemins):\n",
    "            if random.randint(0, 100) < 20: #tirage aléatoire pour que la mutation se fasse 1 fois sur 5 (20%) (si c'est inférieur à la probabilité de 20)\n",
    "                muter(self.chemins[i]({\"chemin\"})) #car dictionnaire\n",
    "\n",
    "\n",
    "\n",
    "    def meilleur_chemin(self):\n",
    "        Génétique.evaluer(self)   \n",
    "        Génétique.sélectionner(self) \n",
    "        return self.chemins[0] #pour n'afficher que le premier résultat"
   ]
  },
  {
   "cell_type": "markdown",
   "metadata": {},
   "source": [
    "2. Créer une population (instance de Génétique)"
   ]
  },
  {
   "cell_type": "code",
   "execution_count": 6,
   "metadata": {},
   "outputs": [],
   "source": [
    "liste_points=[(-893, -452), (-822, 574), (-166, -455), (-780, 717), (845, 791), (-922, -224), (98, 151), (-320, -303)]\n",
    "gen=Génétique(30,liste_points)\n",
    "gen.peupler()\n"
   ]
  },
  {
   "cell_type": "markdown",
   "metadata": {},
   "source": [
    "2. Evaluer population"
   ]
  },
  {
   "cell_type": "code",
   "execution_count": 7,
   "metadata": {},
   "outputs": [
    {
     "name": "stdout",
     "output_type": "stream",
     "text": [
      "[{'chemin': [0, 7, 4, 6, 2, 3, 5, 1], 'distance': 6913.868168749007},\n",
      " {'chemin': [0, 1, 4, 2, 6, 5, 7, 3], 'distance': 7787.933328935889},\n",
      " {'chemin': [0, 3, 5, 6, 7, 2, 4, 1], 'distance': 7331.986109125768},\n",
      " {'chemin': [0, 1, 5, 2, 6, 7, 3, 4], 'distance': 6646.942004171999},\n",
      " {'chemin': [0, 7, 5, 3, 4, 2, 1, 6], 'distance': 7615.0262920816995},\n",
      " {'chemin': [0, 3, 6, 7, 2, 1, 5, 4], 'distance': 7114.906272809433},\n",
      " {'chemin': [0, 5, 1, 7, 4, 6, 2, 3], 'distance': 6610.5067599475715},\n",
      " {'chemin': [0, 6, 1, 3, 4, 2, 7, 5], 'distance': 6376.456678851984},\n",
      " {'chemin': [0, 7, 5, 3, 6, 1, 4, 2], 'distance': 7493.712718618811},\n",
      " {'chemin': [0, 1, 4, 3, 5, 2, 6, 7], 'distance': 7356.491055669995},\n",
      " {'chemin': [0, 6, 3, 2, 7, 1, 4, 5], 'distance': 8473.484902991775},\n",
      " {'chemin': [0, 5, 4, 7, 6, 1, 3, 2], 'distance': 6967.594484879601},\n",
      " {'chemin': [0, 1, 7, 2, 6, 3, 5, 4], 'distance': 6950.402548043424},\n",
      " {'chemin': [0, 1, 5, 4, 6, 3, 7, 2], 'distance': 7234.069647704087},\n",
      " {'chemin': [0, 7, 3, 5, 6, 1, 2, 4], 'distance': 7586.858612997482},\n",
      " {'chemin': [0, 4, 5, 1, 7, 6, 3, 2], 'distance': 8974.11411212007},\n",
      " {'chemin': [0, 2, 1, 7, 5, 4, 6, 3], 'distance': 7631.064617544915},\n",
      " {'chemin': [0, 4, 3, 5, 2, 6, 7, 1], 'distance': 7794.232305450134},\n",
      " {'chemin': [0, 3, 6, 1, 7, 2, 5, 4], 'distance': 7286.8250914709115},\n",
      " {'chemin': [0, 1, 2, 7, 4, 5, 3, 6], 'distance': 8097.344356544932},\n",
      " {'chemin': [0, 7, 2, 4, 6, 5, 1, 3], 'distance': 5436.705026661499},\n",
      " {'chemin': [0, 2, 5, 3, 1, 6, 4, 7], 'distance': 6212.604020653082},\n",
      " {'chemin': [0, 5, 7, 1, 6, 2, 4, 3], 'distance': 6752.354802879985},\n",
      " {'chemin': [0, 4, 1, 3, 2, 7, 5, 6], 'distance': 7200.238359924173},\n",
      " {'chemin': [0, 6, 3, 1, 5, 2, 7, 4], 'distance': 5762.9711980834245},\n",
      " {'chemin': [0, 1, 2, 7, 6, 5, 4, 3], 'distance': 7833.479359509402},\n",
      " {'chemin': [0, 2, 6, 3, 1, 7, 5, 4], 'distance': 6237.1236152623505},\n",
      " {'chemin': [0, 5, 6, 2, 7, 1, 3, 4], 'distance': 4980.209827383331},\n",
      " {'chemin': [0, 4, 7, 2, 5, 6, 1, 3], 'distance': 6990.1500905250805},\n",
      " {'chemin': [0, 4, 6, 2, 3, 1, 5, 7], 'distance': 6664.9655413496985}]\n"
     ]
    }
   ],
   "source": [
    "gen.evaluer()\n",
    "pprint(gen.chemins)"
   ]
  },
  {
   "cell_type": "markdown",
   "metadata": {},
   "source": [
    "3. Sélectionner 1/3 de la population"
   ]
  },
  {
   "cell_type": "code",
   "execution_count": 8,
   "metadata": {},
   "outputs": [
    {
     "data": {
      "text/plain": [
       "[{'chemin': [0, 5, 6, 2, 7, 1, 3, 4], 'distance': 4980.209827383331},\n",
       " {'chemin': [0, 7, 2, 4, 6, 5, 1, 3], 'distance': 5436.705026661499},\n",
       " {'chemin': [0, 6, 3, 1, 5, 2, 7, 4], 'distance': 5762.9711980834245},\n",
       " {'chemin': [0, 2, 5, 3, 1, 6, 4, 7], 'distance': 6212.604020653082},\n",
       " {'chemin': [0, 2, 6, 3, 1, 7, 5, 4], 'distance': 6237.1236152623505},\n",
       " {'chemin': [0, 6, 1, 3, 4, 2, 7, 5], 'distance': 6376.456678851984},\n",
       " {'chemin': [0, 5, 1, 7, 4, 6, 2, 3], 'distance': 6610.5067599475715},\n",
       " {'chemin': [0, 1, 5, 2, 6, 7, 3, 4], 'distance': 6646.942004171999},\n",
       " {'chemin': [0, 4, 6, 2, 3, 1, 5, 7], 'distance': 6664.9655413496985},\n",
       " {'chemin': [0, 5, 7, 1, 6, 2, 4, 3], 'distance': 6752.354802879985}]"
      ]
     },
     "execution_count": 8,
     "metadata": {},
     "output_type": "execute_result"
    }
   ],
   "source": [
    "gen.sélectionner()"
   ]
  },
  {
   "cell_type": "markdown",
   "metadata": {},
   "source": [
    "4. Croisements et mutations des populations "
   ]
  },
  {
   "cell_type": "code",
   "execution_count": 9,
   "metadata": {},
   "outputs": [
    {
     "data": {
      "text/plain": [
       "[{'chemin': [0, 5, 6, 2, 7, 1, 3, 4], 'distance': 4980.209827383331},\n",
       " {'chemin': [0, 7, 2, 4, 6, 5, 1, 3], 'distance': 5436.705026661499},\n",
       " {'chemin': [0, 6, 3, 1, 5, 2, 7, 4], 'distance': 5762.9711980834245},\n",
       " {'chemin': [0, 2, 5, 3, 1, 6, 4, 7], 'distance': 6212.604020653082},\n",
       " {'chemin': [0, 2, 6, 3, 1, 7, 5, 4], 'distance': 6237.1236152623505},\n",
       " {'chemin': [0, 6, 1, 3, 4, 2, 7, 5], 'distance': 6376.456678851984},\n",
       " {'chemin': [0, 5, 1, 7, 4, 6, 2, 3], 'distance': 6610.5067599475715},\n",
       " {'chemin': [0, 1, 5, 2, 6, 7, 3, 4], 'distance': 6646.942004171999},\n",
       " {'chemin': [0, 4, 6, 2, 3, 1, 5, 7], 'distance': 6664.9655413496985},\n",
       " {'chemin': [0, 5, 7, 1, 6, 2, 4, 3], 'distance': 6752.354802879985},\n",
       " {'chemin': [0, 7, 5, 2, 6, 4, 1, 3], 'distance': None},\n",
       " {'chemin': [0, 7, 5, 2, 6, 4, 1, 3], 'distance': None},\n",
       " {'chemin': [0, 7, 5, 2, 6, 4, 1, 3], 'distance': None},\n",
       " {'chemin': [0, 7, 5, 2, 6, 4, 1, 3], 'distance': None},\n",
       " {'chemin': [0, 7, 5, 2, 6, 4, 1, 3], 'distance': None},\n",
       " {'chemin': [0, 7, 5, 2, 6, 4, 1, 3], 'distance': None},\n",
       " {'chemin': [0, 7, 5, 2, 6, 4, 1, 3], 'distance': None},\n",
       " {'chemin': [0, 7, 5, 2, 6, 4, 1, 3], 'distance': None},\n",
       " {'chemin': [0, 7, 5, 2, 6, 4, 1, 3], 'distance': None},\n",
       " {'chemin': [0, 7, 5, 2, 6, 4, 1, 3], 'distance': None},\n",
       " {'chemin': [0, 7, 5, 2, 6, 4, 1, 3], 'distance': None},\n",
       " {'chemin': [0, 7, 5, 2, 6, 4, 1, 3], 'distance': None},\n",
       " {'chemin': [0, 7, 5, 2, 6, 4, 1, 3], 'distance': None},\n",
       " {'chemin': [0, 7, 5, 2, 6, 4, 1, 3], 'distance': None},\n",
       " {'chemin': [0, 7, 5, 2, 6, 4, 1, 3], 'distance': None},\n",
       " {'chemin': [0, 7, 5, 2, 6, 4, 1, 3], 'distance': None},\n",
       " {'chemin': [0, 7, 5, 2, 6, 4, 1, 3], 'distance': None},\n",
       " {'chemin': [0, 7, 5, 2, 6, 4, 1, 3], 'distance': None},\n",
       " {'chemin': [0, 7, 5, 2, 6, 4, 1, 3], 'distance': None},\n",
       " {'chemin': [0, 7, 5, 2, 6, 4, 1, 3], 'distance': None},\n",
       " {'chemin': [0, 7, 5, 2, 6, 4, 1, 3], 'distance': None},\n",
       " {'chemin': [0, 7, 5, 2, 6, 4, 1, 3], 'distance': None},\n",
       " {'chemin': [0, 7, 5, 2, 6, 4, 1, 3], 'distance': None},\n",
       " {'chemin': [0, 7, 5, 2, 6, 4, 1, 3], 'distance': None},\n",
       " {'chemin': [0, 7, 5, 2, 6, 4, 1, 3], 'distance': None},\n",
       " {'chemin': [0, 7, 5, 2, 6, 4, 1, 3], 'distance': None},\n",
       " {'chemin': [0, 7, 5, 2, 6, 4, 1, 3], 'distance': None},\n",
       " {'chemin': [0, 7, 5, 2, 6, 4, 1, 3], 'distance': None},\n",
       " {'chemin': [0, 7, 5, 2, 6, 4, 1, 3], 'distance': None},\n",
       " {'chemin': [0, 7, 5, 2, 6, 4, 1, 3], 'distance': None}]"
      ]
     },
     "execution_count": 9,
     "metadata": {},
     "output_type": "execute_result"
    }
   ],
   "source": [
    "gen.croiser_et_muter()"
   ]
  },
  {
   "cell_type": "markdown",
   "metadata": {},
   "source": [
    "5. Etablir les meilleurs chemins"
   ]
  },
  {
   "cell_type": "code",
   "execution_count": 10,
   "metadata": {},
   "outputs": [
    {
     "data": {
      "text/plain": [
       "{'chemin': [0, 5, 6, 2, 7, 1, 3, 4], 'distance': 4980.209827383331}"
      ]
     },
     "execution_count": 10,
     "metadata": {},
     "output_type": "execute_result"
    }
   ],
   "source": [
    "gen.meilleur_chemin()"
   ]
  },
  {
   "cell_type": "markdown",
   "metadata": {},
   "source": [
    "*** MAIN ***"
   ]
  },
  {
   "cell_type": "code",
   "execution_count": 11,
   "metadata": {},
   "outputs": [
    {
     "data": {
      "text/plain": [
       "{'chemin': [0, 5, 2, 7, 6, 1, 3, 4], 'distance': 4642.152437411249}"
      ]
     },
     "execution_count": 11,
     "metadata": {},
     "output_type": "execute_result"
    }
   ],
   "source": [
    "liste_points=[(-893, -452), (-822, 574), (-166, -455), (-780, 717), (845, 791), (-922, -224), (98, 151), (-320, -303)]\n",
    "gen=Génétique(30,liste_points)\n",
    "\n",
    "gen.peupler()\n",
    "for chemin in gen.chemins:\n",
    "        gen.evaluer()\n",
    "        gen.sélectionner()\n",
    "        gen.croiser_et_muter()\n",
    "        \n",
    "gen.meilleur_chemin()\n"
   ]
  },
  {
   "cell_type": "code",
   "execution_count": null,
   "metadata": {},
   "outputs": [],
   "source": []
  }
 ],
 "metadata": {
  "kernelspec": {
   "display_name": "Python 3.10.4 64-bit",
   "language": "python",
   "name": "python3"
  },
  "language_info": {
   "codemirror_mode": {
    "name": "ipython",
    "version": 3
   },
   "file_extension": ".py",
   "mimetype": "text/x-python",
   "name": "python",
   "nbconvert_exporter": "python",
   "pygments_lexer": "ipython3",
   "version": "3.10.4"
  },
  "orig_nbformat": 4,
  "vscode": {
   "interpreter": {
    "hash": "916dbcbb3f70747c44a77c7bcd40155683ae19c65e1c03b4aa3499c5328201f1"
   }
  }
 },
 "nbformat": 4,
 "nbformat_minor": 2
}
