{
 "cells": [
  {
   "cell_type": "markdown",
   "metadata": {},
   "source": [
    "PROBLEME DU VOYAGEUR DE COMMERCE - Algorithmie génétique"
   ]
  },
  {
   "cell_type": "markdown",
   "metadata": {},
   "source": [
    "1. Créer class POO"
   ]
  },
  {
   "cell_type": "code",
   "execution_count": 1,
   "metadata": {},
   "outputs": [],
   "source": [
    "from math import dist\n",
    "import random\n",
    "from pprint import pprint"
   ]
  },
  {
   "cell_type": "code",
   "execution_count": 2,
   "metadata": {},
   "outputs": [],
   "source": [
    "class Génétique:\n",
    "    def __init__(self, nb_chemins, liste_points):\n",
    "        self.chemins=[]\n",
    "        self.nb_chemins=nb_chemins\n",
    "        self.liste_points=liste_points\n",
    "        self.nb_points=len(self.liste_points)\n",
    "\n",
    "    def peupler(self):\n",
    "        liste=[i for i in range(1,self.nb_points)]\n",
    "        for i in range(self.nb_chemins):\n",
    "            random.shuffle(liste)\n",
    "            chemin=liste.copy()\n",
    "            chemin.insert(0,0) #insert en position 0 un 0\n",
    "            self.chemins.append({\"chemin\": chemin, \"distance\": None,} )\n",
    "    \n",
    "    def evaluer(self): #calculer sa distance\n",
    "        def calculer_distance_chemin(chemin, liste_points):\n",
    "            resultat = 0\n",
    "            for i in range(len(chemin) -1):\n",
    "                resultat += dist(liste_points[chemin[i]], liste_points[chemin[i+1]])\n",
    "            return resultat \n",
    "            \n",
    "        for chemin in self.chemins:\n",
    "            chemin[\"distance\"]=calculer_distance_chemin(chemin[\"chemin\"],self.liste_points)\n",
    "        \n",
    "\n",
    "    def sélectionner(self):\n",
    "        self.chemins.sort(key=lambda x: x[\"distance\"])\n",
    "        nb = int(self.nb_chemins/3) #ou *1/3\n",
    "        self.chemins= self.chemins[0:nb]\n",
    "        return self.chemins\n",
    "\n",
    "    def croiser_et_muter(self):\n",
    "        i = 0\n",
    "        for _ in range(self.nb_chemins):\n",
    "            croisement=[]\n",
    "            chemin_a=self.chemins[i]\n",
    "            chemin_b=self.chemins[i+1]\n",
    "            croisement.append(chemin_a[\"chemin\"][0])\n",
    "            for j in range(len(chemin_a[\"chemin\"])): #parce que chemin est un dict\n",
    "                if chemin_b[\"chemin\"][j] not in croisement:\n",
    "                    croisement.append(chemin_b[\"chemin\"][j])\n",
    "                if chemin_a[\"chemin\"][j] not in croisement:\n",
    "                    croisement.append(chemin_a[\"chemin\"][j])\n",
    "        return croisement\n",
    "\n",
    "    def meilleur_chemin(self):\n",
    "        pass"
   ]
  },
  {
   "cell_type": "markdown",
   "metadata": {},
   "source": [
    "2. Créer une population (instance de Génétique)"
   ]
  },
  {
   "cell_type": "code",
   "execution_count": 3,
   "metadata": {},
   "outputs": [],
   "source": [
    "liste_points=[(-893, -452), (-822, 574), (-166, -455), (-780, 717), (845, 791), (-922, -224), (98, 151), (-320, -303)]\n",
    "gen=Génétique(21,liste_points)\n",
    "gen.peupler()\n"
   ]
  },
  {
   "cell_type": "markdown",
   "metadata": {},
   "source": [
    "2. Evaluer population"
   ]
  },
  {
   "cell_type": "code",
   "execution_count": 4,
   "metadata": {},
   "outputs": [
    {
     "name": "stdout",
     "output_type": "stream",
     "text": [
      "[{'chemin': [0, 1, 6, 5, 2, 3, 7, 4], 'distance': 7958.4589094097955},\n",
      " {'chemin': [0, 1, 6, 2, 5, 3, 7, 4], 'distance': 7161.276455731491},\n",
      " {'chemin': [0, 4, 7, 1, 2, 5, 3, 6], 'distance': 8752.503300472292},\n",
      " {'chemin': [0, 5, 7, 6, 3, 4, 2, 1], 'distance': 6950.315010037876},\n",
      " {'chemin': [0, 3, 6, 5, 1, 7, 4, 2], 'distance': 8323.28592438145},\n",
      " {'chemin': [0, 2, 7, 5, 6, 1, 3, 4], 'distance': 5425.606274408096},\n",
      " {'chemin': [0, 4, 7, 6, 5, 2, 3, 1], 'distance': 7701.4026997925175},\n",
      " {'chemin': [0, 4, 2, 1, 6, 3, 5, 7], 'distance': 8577.659065771682},\n",
      " {'chemin': [0, 3, 5, 2, 7, 1, 4, 6], 'distance': 6808.233181861226},\n",
      " {'chemin': [0, 4, 5, 3, 2, 6, 1, 7], 'distance': 9133.37361557471},\n",
      " {'chemin': [0, 2, 5, 6, 1, 3, 4, 7], 'distance': 6990.7128037942975},\n",
      " {'chemin': [0, 1, 5, 7, 6, 2, 3, 4], 'distance': 6667.765961331026},\n",
      " {'chemin': [0, 6, 4, 5, 2, 3, 7, 1], 'distance': 8424.520241113176},\n",
      " {'chemin': [0, 2, 3, 4, 5, 1, 6, 7], 'distance': 8148.505835913402},\n",
      " {'chemin': [0, 2, 4, 6, 5, 3, 1, 7], 'distance': 6513.200002250758},\n",
      " {'chemin': [0, 2, 7, 5, 1, 6, 4, 3], 'distance': 5977.728712424721},\n",
      " {'chemin': [0, 5, 4, 7, 1, 3, 2, 6], 'distance': 7009.406403089071},\n",
      " {'chemin': [0, 6, 2, 1, 7, 4, 5, 3], 'distance': 8639.445401759014},\n",
      " {'chemin': [0, 5, 6, 2, 7, 4, 1, 3], 'distance': 5622.222048705636},\n",
      " {'chemin': [0, 1, 2, 3, 6, 4, 5, 7], 'distance': 8245.095721433567},\n",
      " {'chemin': [0, 6, 1, 5, 7, 3, 2, 4], 'distance': 7630.617241332183}]\n"
     ]
    }
   ],
   "source": [
    "gen.evaluer()\n",
    "pprint(gen.chemins)"
   ]
  },
  {
   "cell_type": "markdown",
   "metadata": {},
   "source": [
    "3. Sélectionner 1/3 de la population"
   ]
  },
  {
   "cell_type": "code",
   "execution_count": 5,
   "metadata": {},
   "outputs": [
    {
     "data": {
      "text/plain": [
       "[{'chemin': [0, 2, 7, 5, 6, 1, 3, 4], 'distance': 5425.606274408096},\n",
       " {'chemin': [0, 5, 6, 2, 7, 4, 1, 3], 'distance': 5622.222048705636},\n",
       " {'chemin': [0, 2, 7, 5, 1, 6, 4, 3], 'distance': 5977.728712424721},\n",
       " {'chemin': [0, 2, 4, 6, 5, 3, 1, 7], 'distance': 6513.200002250758},\n",
       " {'chemin': [0, 1, 5, 7, 6, 2, 3, 4], 'distance': 6667.765961331026},\n",
       " {'chemin': [0, 3, 5, 2, 7, 1, 4, 6], 'distance': 6808.233181861226},\n",
       " {'chemin': [0, 5, 7, 6, 3, 4, 2, 1], 'distance': 6950.315010037876}]"
      ]
     },
     "execution_count": 5,
     "metadata": {},
     "output_type": "execute_result"
    }
   ],
   "source": [
    "gen.sélectionner()"
   ]
  },
  {
   "cell_type": "markdown",
   "metadata": {},
   "source": [
    "4. Croisements et mutations des populations / meilleurs chemins"
   ]
  },
  {
   "cell_type": "code",
   "execution_count": 6,
   "metadata": {},
   "outputs": [
    {
     "data": {
      "text/plain": [
       "[0, 5, 2, 6, 7, 4, 1, 3]"
      ]
     },
     "execution_count": 6,
     "metadata": {},
     "output_type": "execute_result"
    }
   ],
   "source": [
    "gen.croiser_et_muter()"
   ]
  },
  {
   "cell_type": "code",
   "execution_count": null,
   "metadata": {},
   "outputs": [],
   "source": []
  }
 ],
 "metadata": {
  "kernelspec": {
   "display_name": "Python 3.10.4 64-bit",
   "language": "python",
   "name": "python3"
  },
  "language_info": {
   "codemirror_mode": {
    "name": "ipython",
    "version": 3
   },
   "file_extension": ".py",
   "mimetype": "text/x-python",
   "name": "python",
   "nbconvert_exporter": "python",
   "pygments_lexer": "ipython3",
   "version": "3.10.4"
  },
  "orig_nbformat": 4,
  "vscode": {
   "interpreter": {
    "hash": "916dbcbb3f70747c44a77c7bcd40155683ae19c65e1c03b4aa3499c5328201f1"
   }
  }
 },
 "nbformat": 4,
 "nbformat_minor": 2
}
